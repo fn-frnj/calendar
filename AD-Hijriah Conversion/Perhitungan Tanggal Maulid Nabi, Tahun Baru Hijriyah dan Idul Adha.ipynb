{
 "cells": [
  {
   "cell_type": "code",
   "execution_count": 3,
   "id": "f612fc8b",
   "metadata": {},
   "outputs": [],
   "source": [
    "import math"
   ]
  },
  {
   "cell_type": "code",
   "execution_count": 4,
   "id": "a700ef2f",
   "metadata": {},
   "outputs": [],
   "source": [
    "def IdulAdha(hy):\n",
    "    hm = 12\n",
    "    hd = 10\n",
    "    N = hd + math.floor(29.5001*(hm-1)+0.99)\n",
    "    Q = math.floor(hy/30)\n",
    "    R = hy%30\n",
    "    A = math.floor((11*R+3)/30)\n",
    "    W = 404*Q + 354*R + 208 + A\n",
    "    Q1 = math.floor(W/1461)\n",
    "    Q2 = W%1461\n",
    "    G = 621 + 4*math.floor(7*Q+Q1)\n",
    "    K = math.floor(Q2/365.2422)\n",
    "    E = math.floor(365.2422*K)\n",
    "    J = Q2 - E + N - 1\n",
    "    X = G + K\n",
    "    if J > 366 and X%4 == 0:\n",
    "        J = J - 366\n",
    "        X = X + 1\n",
    "    elif J > 365 and X%4 > 0:\n",
    "        J = J - 365\n",
    "        X = X + 1\n",
    "    JD = math.floor(365.25*(X-1)) + 1721423 + J\n",
    "    alp = math.floor((JD-1867216.25)/36524.25)\n",
    "    beta = JD + 1 + alp - math.floor(alp/4)\n",
    "    if JD < 2299161:\n",
    "        beta = JD\n",
    "    b = beta + 1524\n",
    "    c = math.floor((b-122.1)/365.25)\n",
    "    d = math.floor(365.25*c)\n",
    "    e = math.floor((b-d)/30.6001)\n",
    "    GD = b - d - math.floor(30.6001*e)\n",
    "    if e < 14:\n",
    "        GM = e - 1\n",
    "    else:\n",
    "        GM = e - 13\n",
    "    if GM > 2:\n",
    "        GY = c - 4716\n",
    "    else:\n",
    "        GY = c - 4715\n",
    "    print(\"N: \" + str(N))\n",
    "    print(\"Q: \" + str(Q))\n",
    "    print(\"R: \" + str(R))\n",
    "    print(\"A: \" + str(A))\n",
    "    print(\"W: \" + str(W))\n",
    "    print(\"Q1: \" + str(Q1))\n",
    "    print(\"Q2: \" + str(Q2))\n",
    "    print(\"G: \" + str(G))\n",
    "    print(\"K: \" + str(K))\n",
    "    print(\"E: \" + str(E))\n",
    "    print(\"J: \" + str(J))\n",
    "    print(\"X: \" + str(X))\n",
    "    print(\"JD: \" + str(JD))\n",
    "    print(\"alpha: \" + str(alp))\n",
    "    print(\"beta: \" + str(beta))\n",
    "    print(\"b: \" + str(b))\n",
    "    print(\"c: \" + str(c))\n",
    "    print(\"d: \" + str(d))\n",
    "    print(\"e: \" + str(e))\n",
    "    print('Untuk tanggal dalam kalender Hijriyah',hd,hm,hy)\n",
    "    print('Idul Adha dalam kalender Masehi mulai pada',GD,GM,GY)\n",
    "    hd2 = 13\n",
    "    N2 = hd2 + math.floor(29.5001*(hm-1)+0.99)\n",
    "    Q2 = math.floor(hy/30)\n",
    "    R2 = hy%30\n",
    "    A2 = math.floor((11*R2+3)/30)\n",
    "    W2 = 404*Q2 + 354*R2 + 208 + A2\n",
    "    Q12 = math.floor(W2/1461)\n",
    "    Q22 = W2%1461\n",
    "    G2 = 621 + 4*math.floor(7*Q2+Q12)\n",
    "    K2 = math.floor(Q22/365.2422)\n",
    "    E2 = math.floor(365.2422*K2)\n",
    "    J2 = Q22 - E2 + N2 - 1\n",
    "    X2 = G2 + K2\n",
    "    if J2 > 366 and X2%4 == 0:\n",
    "        J2 = J2 - 366\n",
    "        X2 = X2 + 1\n",
    "    elif J2 > 365 and X2%4 > 0:\n",
    "        J2 = J2 - 365\n",
    "        X2 = X2 + 1\n",
    "    JD2 = math.floor(365.25*(X2-1)) + 1721423 + J2\n",
    "    alp2 = math.floor((JD2-1867216.25)/36524.25)\n",
    "    beta2 = JD2 + 1 + alp2 - math.floor(alp2/4)\n",
    "    if JD2 < 2299161:\n",
    "        beta2 = JD2\n",
    "    b2 = beta2 + 1524\n",
    "    c2 = math.floor((b2-122.1)/365.25)\n",
    "    d2 = math.floor(365.25*c2)\n",
    "    e2 = math.floor((b2-d2)/30.6001)\n",
    "    GD2 = b2 - d2 - math.floor(30.6001*e2)\n",
    "    if e2 < 14:\n",
    "        GM2 = e2 - 1\n",
    "    else:\n",
    "        GM2 = e2 - 13\n",
    "    if GM > 2:\n",
    "        GY2 = c2 - 4716\n",
    "    else:\n",
    "        GY2 = c2 - 4715\n",
    "    print('DD/MM/YYYY Hijriyah',hd2,hm,hy)\n",
    "    print('Idul Adha DD/MM/YYYY Masehi berakhir pada',GD2,GM2,GY2)\n",
    "    return"
   ]
  },
  {
   "cell_type": "code",
   "execution_count": 5,
   "id": "00720109",
   "metadata": {},
   "outputs": [],
   "source": [
    "def Maulid(hy):\n",
    "    hm = 3\n",
    "    hd = 12\n",
    "    N = hd + math.floor(29.5001*(hm-1)+0.99)\n",
    "    Q = math.floor(hy/30)\n",
    "    R = hy%30\n",
    "    A = math.floor((11*R+3)/30)\n",
    "    W = 404*Q + 354*R + 208 + A\n",
    "    Q1 = math.floor(W/1461)\n",
    "    Q2 = W%1461\n",
    "    G = 621 + 4*math.floor(7*Q+Q1)\n",
    "    K = math.floor(Q2/365.2422)\n",
    "    E = math.floor(365.2422*K)\n",
    "    J = Q2 - E + N - 1\n",
    "    X = G + K\n",
    "    if J > 366 and X%4 == 0:\n",
    "        J = J - 366\n",
    "        X = X + 1\n",
    "    elif J > 365 and X%4 > 0:\n",
    "        J = J - 365\n",
    "        X = X + 1\n",
    "    JD = math.floor(365.25*(X-1)) + 1721423 + J\n",
    "    alp = math.floor((JD-1867216.25)/36524.25)\n",
    "    beta = JD + 1 + alp - math.floor(alp/4)\n",
    "    if JD < 2299161:\n",
    "        beta = JD\n",
    "    b = beta + 1524\n",
    "    c = math.floor((b-122.1)/365.25)\n",
    "    d = math.floor(365.25*c)\n",
    "    e = math.floor((b-d)/30.6001)\n",
    "    GD = b - d - math.floor(30.6001*e)\n",
    "    if e < 14:\n",
    "        GM = e - 1\n",
    "    else:\n",
    "        GM = e - 13\n",
    "    if GM > 2:\n",
    "        GY = c - 4716\n",
    "    else:\n",
    "        GY = c - 4715\n",
    "    print('Tanggal Hijriyah',hd,hm,hy)\n",
    "    print('Maulid DD/MM/YYYY Masehi jatuh pada',GD,GM,GY)\n",
    "    if ((11*R +3)%30) > 18:\n",
    "        print('Tahun Hijriyah kabisat')\n",
    "    else:\n",
    "        print('Tahun Hijriyah biasa')\n",
    "    return"
   ]
  },
  {
   "cell_type": "code",
   "execution_count": 6,
   "id": "23dd4129",
   "metadata": {},
   "outputs": [],
   "source": [
    "def Muharram(hy):\n",
    "    hm = 1\n",
    "    hd = 1\n",
    "    N = hd + math.floor(29.5001*(hm-1)+0.99)\n",
    "    Q = math.floor(hy/30)\n",
    "    R = hy%30\n",
    "    A = math.floor((11*R+3)/30)\n",
    "    W = 404*Q + 354*R + 208 + A\n",
    "    Q1 = math.floor(W/1461)\n",
    "    Q2 = W%1461\n",
    "    G = 621 + 4*math.floor(7*Q+Q1)\n",
    "    K = math.floor(Q2/365.2422)\n",
    "    E = math.floor(365.2422*K)\n",
    "    J = Q2 - E + N - 1\n",
    "    X = G + K\n",
    "    if J > 366 and X%4 == 0:\n",
    "        J = J - 366\n",
    "        X = X + 1\n",
    "    elif J > 365 and X%4 > 0:\n",
    "        J = J - 365\n",
    "        X = X + 1\n",
    "    JD = math.floor(365.25*(X-1)) + 1721423 + J\n",
    "    alp = math.floor((JD-1867216.25)/36524.25)\n",
    "    beta = JD + 1 + alp - math.floor(alp/4)\n",
    "    if JD < 2299161:\n",
    "        beta = JD\n",
    "    b = beta + 1524\n",
    "    c = math.floor((b-122.1)/365.25)\n",
    "    d = math.floor(365.25*c)\n",
    "    e = math.floor((b-d)/30.6001)\n",
    "    GD = b - d - math.floor(30.6001*e)\n",
    "    if e < 14:\n",
    "        GM = e - 1\n",
    "    else:\n",
    "        GM = e - 13\n",
    "    if GM > 2:\n",
    "        GY = c - 4716\n",
    "    else:\n",
    "        GY = c - 4715\n",
    "    print('Tanggal Hijriyah',hd,hm,hy)\n",
    "    print('Tahun Baru Muharram dalam kalender Masehi jatuh pada',GD,GM,GY)\n",
    "    if ((11*R +3)%30) > 18:\n",
    "        print('Tahun Hijriyah kabisat')\n",
    "    else:\n",
    "        print('Tahun Hijriyah biasa')\n",
    "    return"
   ]
  },
  {
   "cell_type": "code",
   "execution_count": 7,
   "id": "72922863",
   "metadata": {},
   "outputs": [
    {
     "name": "stdout",
     "output_type": "stream",
     "text": [
      "Tanggal Hijriyah 12 3 1443\n",
      "Maulid DD/MM/YYYY Masehi jatuh pada 19 10 2021\n",
      "Tahun Hijriyah biasa\n"
     ]
    }
   ],
   "source": [
    "# Maulid Untuk tahun 1443 Hijriah\n",
    "Maulid(1443)"
   ]
  },
  {
   "cell_type": "code",
   "execution_count": 8,
   "id": "acfea34f",
   "metadata": {},
   "outputs": [
    {
     "name": "stdout",
     "output_type": "stream",
     "text": [
      "Tanggal Hijriyah 12 3 1445\n",
      "Maulid DD/MM/YYYY Masehi jatuh pada 27 9 2023\n",
      "Tahun Hijriyah kabisat\n"
     ]
    }
   ],
   "source": [
    "# Maulid Untuk tahun 1445 Hijriah\n",
    "Maulid(1445)"
   ]
  },
  {
   "cell_type": "code",
   "execution_count": 9,
   "id": "2f9eef2c",
   "metadata": {},
   "outputs": [
    {
     "name": "stdout",
     "output_type": "stream",
     "text": [
      "N: 335\n",
      "Q: 48\n",
      "R: 3\n",
      "A: 1\n",
      "W: 20663\n",
      "Q1: 14\n",
      "Q2: 209\n",
      "G: 2021\n",
      "K: 0\n",
      "E: 0\n",
      "J: 178\n",
      "X: 2022\n",
      "JD: 2459771\n",
      "alpha: 16\n",
      "beta: 2459784\n",
      "b: 2461308\n",
      "c: 6738\n",
      "d: 2461054\n",
      "e: 8\n",
      "Untuk tanggal dalam kalender Hijriyah 10 12 1443\n",
      "Idul Adha dalam kalender Masehi mulai pada 10 7 2022\n",
      "DD/MM/YYYY Hijriyah 13 12 1443\n",
      "Idul Adha DD/MM/YYYY Masehi berakhir pada 13 7 2022\n"
     ]
    }
   ],
   "source": [
    "# Idul Adha Untuk tahun 1443 Hijriah\n",
    "IdulAdha(1443)"
   ]
  },
  {
   "cell_type": "code",
   "execution_count": 10,
   "id": "f22ba81d",
   "metadata": {},
   "outputs": [
    {
     "name": "stdout",
     "output_type": "stream",
     "text": [
      "N: 335\n",
      "Q: 48\n",
      "R: 5\n",
      "A: 1\n",
      "W: 21371\n",
      "Q1: 14\n",
      "Q2: 917\n",
      "G: 2021\n",
      "K: 2\n",
      "E: 730\n",
      "J: 156\n",
      "X: 2024\n",
      "JD: 2460479\n",
      "alpha: 16\n",
      "beta: 2460492\n",
      "b: 2462016\n",
      "c: 6740\n",
      "d: 2461785\n",
      "e: 7\n",
      "Untuk tanggal dalam kalender Hijriyah 10 12 1445\n",
      "Idul Adha dalam kalender Masehi mulai pada 17 6 2024\n",
      "DD/MM/YYYY Hijriyah 13 12 1445\n",
      "Idul Adha DD/MM/YYYY Masehi berakhir pada 20 6 2024\n"
     ]
    }
   ],
   "source": [
    "# Idul Adha Untuk tahun 1445 Hijriah\n",
    "IdulAdha(1445)"
   ]
  },
  {
   "cell_type": "code",
   "execution_count": 11,
   "id": "5c66d4f7",
   "metadata": {},
   "outputs": [
    {
     "name": "stdout",
     "output_type": "stream",
     "text": [
      "Tanggal Hijriyah 1 1 1443\n",
      "Tahun Baru Muharram dalam kalender Masehi jatuh pada 10 8 2021\n",
      "Tahun Hijriyah biasa\n"
     ]
    }
   ],
   "source": [
    "# Muharram Untuk tahun 1443 Hijriah\n",
    "Muharram(1443)"
   ]
  },
  {
   "cell_type": "code",
   "execution_count": 12,
   "id": "221a7385",
   "metadata": {},
   "outputs": [
    {
     "name": "stdout",
     "output_type": "stream",
     "text": [
      "Tanggal Hijriyah 1 1 1445\n",
      "Tahun Baru Muharram dalam kalender Masehi jatuh pada 19 7 2023\n",
      "Tahun Hijriyah kabisat\n"
     ]
    }
   ],
   "source": [
    "# Muharram Untuk tahun 1445 Hijriah\n",
    "Muharram(1445)"
   ]
  }
 ],
 "metadata": {
  "kernelspec": {
   "display_name": "Python 3 (ipykernel)",
   "language": "python",
   "name": "python3"
  },
  "language_info": {
   "codemirror_mode": {
    "name": "ipython",
    "version": 3
   },
   "file_extension": ".py",
   "mimetype": "text/x-python",
   "name": "python",
   "nbconvert_exporter": "python",
   "pygments_lexer": "ipython3",
   "version": "3.9.12"
  }
 },
 "nbformat": 4,
 "nbformat_minor": 5
}
